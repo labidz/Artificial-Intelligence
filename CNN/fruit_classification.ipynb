{
  "nbformat": 4,
  "nbformat_minor": 0,
  "metadata": {
    "colab": {
      "provenance": [],
      "authorship_tag": "ABX9TyOBhp2Gon5ymnztDb2bmbHU",
      "include_colab_link": true
    },
    "kernelspec": {
      "name": "python3",
      "display_name": "Python 3"
    },
    "language_info": {
      "name": "python"
    },
    "accelerator": "GPU",
    "gpuClass": "standard"
  },
  "cells": [
    {
      "cell_type": "markdown",
      "metadata": {
        "id": "view-in-github",
        "colab_type": "text"
      },
      "source": [
        "<a href=\"https://colab.research.google.com/github/labidz/ANN_CNN_ML/blob/main/friut.ipynb\" target=\"_parent\"><img src=\"https://colab.research.google.com/assets/colab-badge.svg\" alt=\"Open In Colab\"/></a>"
      ]
    },
    {
      "cell_type": "code",
      "execution_count": null,
      "metadata": {
        "id": "LcUHZisyfgfV"
      },
      "outputs": [],
      "source": [
        "!pip install -U -q PyDrive\n",
        "from pydrive.auth import GoogleAuth\n",
        "from pydrive.drive import GoogleDrive\n",
        "from google.colab import auth\n",
        "from oauth2client.client import GoogleCredentials\n",
        "auth.authenticate_user()\n",
        "gauth = GoogleAuth()\n",
        "gauth.credentials = GoogleCredentials.get_application_default()\n",
        "drive = GoogleDrive(gauth)\n",
        "fid = drive.ListFile({'q':\"title='fruit.zip'\"}).GetList()[0]['id']\n",
        "f = drive.CreateFile({'id': fid})\n",
        "f.GetContentFile('fruit.zip')\n",
        "f.keys()\n",
        "!unzip fruit.zip"
      ]
    },
    {
      "cell_type": "code",
      "source": [
        "import numpy as np\n",
        "import pandas as pd "
      ],
      "metadata": {
        "id": "QHGwZv33htzn"
      },
      "execution_count": null,
      "outputs": []
    },
    {
      "cell_type": "code",
      "source": [
        "TRAIN_DIR = '/content/train/train'"
      ],
      "metadata": {
        "id": "GanwrNlBiC0u"
      },
      "execution_count": null,
      "outputs": []
    },
    {
      "cell_type": "code",
      "source": [
        "import tensorflow as tf\n",
        "from tensorflow import keras\n",
        "from tensorflow.keras.models import Sequential\n",
        "from tensorflow.keras import layers as L\n",
        "from tensorflow.keras.preprocessing.image import ImageDataGenerator, img_to_array, load_img\n",
        "\n",
        "import matplotlib.pyplot as plt"
      ],
      "metadata": {
        "id": "Wh5D-65tiLSm"
      },
      "execution_count": null,
      "outputs": []
    },
    {
      "cell_type": "code",
      "source": [
        "img_datagen = ImageDataGenerator(rescale=1./255,\n",
        "                                vertical_flip=True,\n",
        "                                horizontal_flip=True,\n",
        "                                rotation_range=40,\n",
        "                                width_shift_range=0.2,\n",
        "                                height_shift_range=0.2,\n",
        "                                zoom_range=0.1,\n",
        "                                validation_split=0.2)\n",
        "\n",
        "test_datagen = ImageDataGenerator(rescale=1./255)\n",
        "\n",
        "train_generator = img_datagen.flow_from_directory(TRAIN_DIR,\n",
        "                                                 shuffle=True,\n",
        "                                                 batch_size=32,\n",
        "                                                 subset='training',\n",
        "                                                 target_size=(100, 100))\n",
        "\n",
        "valid_generator = img_datagen.flow_from_directory(TRAIN_DIR,\n",
        "                                                 shuffle=True,\n",
        "                                                 batch_size=16,\n",
        "                                                 subset='validation',\n",
        "                                                 target_size=(100, 100))"
      ],
      "metadata": {
        "colab": {
          "base_uri": "https://localhost:8080/"
        },
        "id": "khpbY7ariOkn",
        "outputId": "0c796253-40cb-4edb-e08c-cec11b7ca1ed"
      },
      "execution_count": null,
      "outputs": [
        {
          "output_type": "stream",
          "name": "stdout",
          "text": [
            "Found 13493 images belonging to 33 classes.\n",
            "Found 3361 images belonging to 33 classes.\n"
          ]
        }
      ]
    },
    {
      "cell_type": "code",
      "source": [
        "model = Sequential()\n",
        "\n",
        "model.add(L.Conv2D(64, (5, 5), activation='relu', padding='Same', input_shape=(100, 100, 3)))\n",
        "model.add(L.Conv2D(64, (5, 5), activation='relu', padding='Same'))\n",
        "model.add(L.MaxPool2D((2, 2)))\n",
        "model.add(L.Dropout(0.25))\n",
        "\n",
        "model.add(L.Conv2D(128, (3, 3), activation='relu', padding='Same'))\n",
        "model.add(L.Conv2D(128, (3, 3), activation='relu', padding='Same'))\n",
        "model.add(L.MaxPool2D((2, 2), strides=(2, 2)))\n",
        "model.add(L.Dropout(0.25))\n",
        "\n",
        "model.add(L.Flatten())\n",
        "model.add(L.Dense(256, activation='relu'))\n",
        "model.add(L.Dropout(0.5))\n",
        "model.add(L.Dense(33, activation='softmax'))\n",
        "\n",
        "model.compile(optimizer=keras.optimizers.Adam(lr=0.0001), loss='categorical_crossentropy', metrics=['accuracy'])"
      ],
      "metadata": {
        "colab": {
          "base_uri": "https://localhost:8080/"
        },
        "id": "MGuxlSvlizeP",
        "outputId": "381c23cc-847d-4fa7-9b00-11056976168b"
      },
      "execution_count": null,
      "outputs": [
        {
          "output_type": "stream",
          "name": "stderr",
          "text": [
            "WARNING:absl:`lr` is deprecated, please use `learning_rate` instead, or use the legacy optimizer, e.g.,tf.keras.optimizers.legacy.Adam.\n"
          ]
        }
      ]
    },
    {
      "cell_type": "code",
      "source": [
        "early = tf.keras.callbacks.EarlyStopping(monitor='val_accuracy', patience=3, mode='max',\n",
        "                                        restore_best_weights=True)\n",
        "            \n",
        "history = model.fit(train_generator, validation_data=valid_generator,\n",
        "                   steps_per_epoch=train_generator.n//train_generator.batch_size,\n",
        "                   validation_steps=valid_generator.n//valid_generator.batch_size,\n",
        "                    callbacks=[early],\n",
        "                   epochs=10)"
      ],
      "metadata": {
        "colab": {
          "base_uri": "https://localhost:8080/"
        },
        "id": "cTW3WUQejELQ",
        "outputId": "e3b4207d-8acd-461d-9f50-86709b8d3442"
      },
      "execution_count": null,
      "outputs": [
        {
          "output_type": "stream",
          "name": "stdout",
          "text": [
            "Epoch 1/10\n",
            "421/421 [==============================] - 84s 170ms/step - loss: 2.3603 - accuracy: 0.2555 - val_loss: 1.1697 - val_accuracy: 0.6161\n",
            "Epoch 2/10\n",
            "421/421 [==============================] - 60s 143ms/step - loss: 1.0783 - accuracy: 0.6034 - val_loss: 0.5254 - val_accuracy: 0.8027\n",
            "Epoch 3/10\n",
            "421/421 [==============================] - 60s 143ms/step - loss: 0.6198 - accuracy: 0.7765 - val_loss: 0.4536 - val_accuracy: 0.8381\n",
            "Epoch 4/10\n",
            "421/421 [==============================] - 60s 143ms/step - loss: 0.4879 - accuracy: 0.8237 - val_loss: 0.2826 - val_accuracy: 0.8932\n",
            "Epoch 5/10\n",
            "421/421 [==============================] - 70s 166ms/step - loss: 0.3858 - accuracy: 0.8623 - val_loss: 0.3172 - val_accuracy: 0.8815\n",
            "Epoch 6/10\n",
            "421/421 [==============================] - 60s 142ms/step - loss: 0.3226 - accuracy: 0.8878 - val_loss: 0.4122 - val_accuracy: 0.8637\n",
            "Epoch 7/10\n",
            "421/421 [==============================] - 70s 166ms/step - loss: 0.3026 - accuracy: 0.8961 - val_loss: 0.1424 - val_accuracy: 0.9568\n",
            "Epoch 8/10\n",
            "421/421 [==============================] - 70s 166ms/step - loss: 0.2745 - accuracy: 0.9047 - val_loss: 0.1664 - val_accuracy: 0.9342\n",
            "Epoch 9/10\n",
            "421/421 [==============================] - 59s 140ms/step - loss: 0.2323 - accuracy: 0.9213 - val_loss: 0.1037 - val_accuracy: 0.9676\n",
            "Epoch 10/10\n",
            "421/421 [==============================] - 60s 142ms/step - loss: 0.2078 - accuracy: 0.9294 - val_loss: 0.2823 - val_accuracy: 0.8946\n"
          ]
        }
      ]
    },
    {
      "cell_type": "code",
      "source": [
        "plt.plot(history.history['accuracy'])\n",
        "plt.plot(history.history['val_accuracy'])\n",
        "plt.xlabel('Epoch')\n",
        "plt.ylabel('Accuracy')\n",
        "print(\"Accuracy: \",max(history.history['accuracy']))\n",
        "plt.show()"
      ],
      "metadata": {
        "colab": {
          "base_uri": "https://localhost:8080/",
          "height": 299
        },
        "id": "tdUMhWAKl8P0",
        "outputId": "d47b2a29-126c-4356-9b75-1a839822d0e6"
      },
      "execution_count": null,
      "outputs": [
        {
          "output_type": "stream",
          "name": "stdout",
          "text": [
            "Accuracy:  0.9294257760047913\n"
          ]
        },
        {
          "output_type": "display_data",
          "data": {
            "text/plain": [
              "<Figure size 432x288 with 1 Axes>"
            ],
            "image/png": "[encoded data removed]"
          },
          "metadata": {
            "needs_background": "light"
          }
        }
      ]
    }
  ]
}
